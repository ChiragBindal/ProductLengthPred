{
  "nbformat": 4,
  "nbformat_minor": 0,
  "metadata": {
    "colab": {
      "provenance": [],
      "gpuType": "T4"
    },
    "kernelspec": {
      "name": "python3",
      "display_name": "Python 3"
    },
    "language_info": {
      "name": "python"
    },
    "accelerator": "GPU"
  },
  "cells": [
    {
      "cell_type": "code",
      "source": [
        "import pandas as pd\n",
        "import numpy as np\n",
        "import csv\n",
        "import os\n",
        "import random\n",
        "import torch\n",
        "import torch\n",
        "torch.backends.cudnn.benchmark = True\n",
        "torch.autograd.set_detect_anomaly(False)\n",
        "torch.autograd.profiler.profile(False)\n",
        "torch.autograd.profiler.emit_nvtx(False)\n",
        "import torch.nn as nn\n",
        "import torch.optim as optim\n",
        "from torch.utils.data import Dataset, DataLoader\n",
        "from sklearn.model_selection import train_test_split\n",
        "from sklearn.metrics import classification_report\n",
        "import sklearn.model_selection as model_selection\n",
        "import time\n",
        "import copy\n",
        "from tqdm.notebook import tqdm"
      ],
      "metadata": {
        "id": "SwPw_YtyAZai"
      },
      "execution_count": null,
      "outputs": []
    },
    {
      "cell_type": "code",
      "source": [
        "!wget https://raw.githubusercontent.com/satenderkumar11/File_Zipper/main/amazon_cleaned.csv"
      ],
      "metadata": {
        "colab": {
          "base_uri": "https://localhost:8080/"
        },
        "id": "94X8uMcVDvZS",
        "outputId": "d61bfe3f-dd50-4540-fb0b-d237283c9e2c"
      },
      "execution_count": null,
      "outputs": [
        {
          "output_type": "stream",
          "name": "stdout",
          "text": [
            "--2023-06-07 18:36:22--  https://raw.githubusercontent.com/satenderkumar11/File_Zipper/main/amazon_cleaned.csv\n",
            "Resolving raw.githubusercontent.com (raw.githubusercontent.com)... 185.199.108.133, 185.199.109.133, 185.199.110.133, ...\n",
            "Connecting to raw.githubusercontent.com (raw.githubusercontent.com)|185.199.108.133|:443... connected.\n",
            "HTTP request sent, awaiting response... 200 OK\n",
            "Length: 63495474 (61M) [text/plain]\n",
            "Saving to: ‘amazon_cleaned.csv’\n",
            "\n",
            "amazon_cleaned.csv  100%[===================>]  60.55M  85.5MB/s    in 0.7s    \n",
            "\n",
            "2023-06-07 18:36:24 (85.5 MB/s) - ‘amazon_cleaned.csv’ saved [63495474/63495474]\n",
            "\n"
          ]
        }
      ]
    },
    {
      "cell_type": "code",
      "source": [
        "!pip install gdown\n",
        "\n",
        "import gdown\n",
        "\n",
        "# Define the URL of the file to download\n",
        "url = 'https://drive.google.com/uc?id=1F_FNJKOE1oOZPqdLIW0Wt7LoC2InDnjV'\n",
        "\n",
        "# Define the output file path\n",
        "output = '/content/data.csv'\n",
        "\n",
        "# Download the file using gdown\n",
        "gdown.download(url, output, quiet=False)"
      ],
      "metadata": {
        "colab": {
          "base_uri": "https://localhost:8080/",
          "height": 351
        },
        "id": "YXP3hhbwKo8K",
        "outputId": "7f35dbb9-640f-49c0-eaaa-dd7fba6d85c5"
      },
      "execution_count": null,
      "outputs": [
        {
          "output_type": "stream",
          "name": "stdout",
          "text": [
            "Looking in indexes: https://pypi.org/simple, https://us-python.pkg.dev/colab-wheels/public/simple/\n",
            "Requirement already satisfied: gdown in /usr/local/lib/python3.10/dist-packages (4.6.6)\n",
            "Requirement already satisfied: filelock in /usr/local/lib/python3.10/dist-packages (from gdown) (3.12.0)\n",
            "Requirement already satisfied: requests[socks] in /usr/local/lib/python3.10/dist-packages (from gdown) (2.27.1)\n",
            "Requirement already satisfied: six in /usr/local/lib/python3.10/dist-packages (from gdown) (1.16.0)\n",
            "Requirement already satisfied: tqdm in /usr/local/lib/python3.10/dist-packages (from gdown) (4.65.0)\n",
            "Requirement already satisfied: beautifulsoup4 in /usr/local/lib/python3.10/dist-packages (from gdown) (4.11.2)\n",
            "Requirement already satisfied: soupsieve>1.2 in /usr/local/lib/python3.10/dist-packages (from beautifulsoup4->gdown) (2.4.1)\n",
            "Requirement already satisfied: urllib3<1.27,>=1.21.1 in /usr/local/lib/python3.10/dist-packages (from requests[socks]->gdown) (1.26.15)\n",
            "Requirement already satisfied: certifi>=2017.4.17 in /usr/local/lib/python3.10/dist-packages (from requests[socks]->gdown) (2022.12.7)\n",
            "Requirement already satisfied: charset-normalizer~=2.0.0 in /usr/local/lib/python3.10/dist-packages (from requests[socks]->gdown) (2.0.12)\n",
            "Requirement already satisfied: idna<4,>=2.5 in /usr/local/lib/python3.10/dist-packages (from requests[socks]->gdown) (3.4)\n",
            "Requirement already satisfied: PySocks!=1.5.7,>=1.5.6 in /usr/local/lib/python3.10/dist-packages (from requests[socks]->gdown) (1.7.1)\n"
          ]
        },
        {
          "output_type": "stream",
          "name": "stderr",
          "text": [
            "Downloading...\n",
            "From: https://drive.google.com/uc?id=1F_FNJKOE1oOZPqdLIW0Wt7LoC2InDnjV\n",
            "To: /content/data.csv\n",
            "100%|██████████| 253M/253M [00:05<00:00, 42.7MB/s]\n"
          ]
        },
        {
          "output_type": "execute_result",
          "data": {
            "text/plain": [
              "'/content/data.csv'"
            ],
            "application/vnd.google.colaboratory.intrinsic+json": {
              "type": "string"
            }
          },
          "metadata": {},
          "execution_count": 3
        }
      ]
    },
    {
      "cell_type": "code",
      "source": [
        "df=pd.read_csv('/content/amazon_cleaned.csv')"
      ],
      "metadata": {
        "id": "TX7S4wSOAAyJ"
      },
      "execution_count": null,
      "outputs": []
    },
    {
      "cell_type": "code",
      "source": [
        "df.head()"
      ],
      "metadata": {
        "colab": {
          "base_uri": "https://localhost:8080/",
          "height": 319
        },
        "id": "6XeilXdAAviL",
        "outputId": "8be38110-408d-4aca-efc8-498f244e1d24"
      },
      "execution_count": null,
      "outputs": [
        {
          "output_type": "execute_result",
          "data": {
            "text/plain": [
              "   PRODUCT_ID                                              TITLE  \\\n",
              "0      101521             Secret Things: Twelve Tales to Terrify   \n",
              "1      288840                          The Life of Andrew Marvel   \n",
              "2      646861                                L'attente de l'aube   \n",
              "3       34064  Jerusalen Libertada: Traduccin En Prosa Del It...   \n",
              "4     2119006  ZIYAA Women's Cotton Regular Kurta (ZIKUCO3215...   \n",
              "\n",
              "                                       BULLET_POINTS DESCRIPTION  \\\n",
              "0                                                                  \n",
              "1                                                                  \n",
              "2                                                                  \n",
              "3                                                                  \n",
              "4  [Kurta Fabric : Cotton,Straight Kurta,Availabl...               \n",
              "\n",
              "   PRODUCT_TYPE_ID  PRODUCT_LENGTH  kfold  \\\n",
              "0              104              17      0   \n",
              "1              112              45      0   \n",
              "2               99             817      0   \n",
              "3             6104             151      0   \n",
              "4             2916             584      0   \n",
              "\n",
              "                                                text  \n",
              "0                   secret thing twelve tale terrify  \n",
              "1                                 life andrew marvel  \n",
              "2                                  lattente de laube  \n",
              "3  jerusalen libertada traduccin en prosa del ita...  \n",
              "4  ziyaa woman cotton regular kurta zikuco3215xxl...  "
            ],
            "text/html": [
              "\n",
              "  <div id=\"df-3a69a42a-4f6b-4684-b41f-51532b89472b\">\n",
              "    <div class=\"colab-df-container\">\n",
              "      <div>\n",
              "<style scoped>\n",
              "    .dataframe tbody tr th:only-of-type {\n",
              "        vertical-align: middle;\n",
              "    }\n",
              "\n",
              "    .dataframe tbody tr th {\n",
              "        vertical-align: top;\n",
              "    }\n",
              "\n",
              "    .dataframe thead th {\n",
              "        text-align: right;\n",
              "    }\n",
              "</style>\n",
              "<table border=\"1\" class=\"dataframe\">\n",
              "  <thead>\n",
              "    <tr style=\"text-align: right;\">\n",
              "      <th></th>\n",
              "      <th>PRODUCT_ID</th>\n",
              "      <th>TITLE</th>\n",
              "      <th>BULLET_POINTS</th>\n",
              "      <th>DESCRIPTION</th>\n",
              "      <th>PRODUCT_TYPE_ID</th>\n",
              "      <th>PRODUCT_LENGTH</th>\n",
              "      <th>kfold</th>\n",
              "      <th>text</th>\n",
              "    </tr>\n",
              "  </thead>\n",
              "  <tbody>\n",
              "    <tr>\n",
              "      <th>0</th>\n",
              "      <td>101521</td>\n",
              "      <td>Secret Things: Twelve Tales to Terrify</td>\n",
              "      <td></td>\n",
              "      <td></td>\n",
              "      <td>104</td>\n",
              "      <td>17</td>\n",
              "      <td>0</td>\n",
              "      <td>secret thing twelve tale terrify</td>\n",
              "    </tr>\n",
              "    <tr>\n",
              "      <th>1</th>\n",
              "      <td>288840</td>\n",
              "      <td>The Life of Andrew Marvel</td>\n",
              "      <td></td>\n",
              "      <td></td>\n",
              "      <td>112</td>\n",
              "      <td>45</td>\n",
              "      <td>0</td>\n",
              "      <td>life andrew marvel</td>\n",
              "    </tr>\n",
              "    <tr>\n",
              "      <th>2</th>\n",
              "      <td>646861</td>\n",
              "      <td>L'attente de l'aube</td>\n",
              "      <td></td>\n",
              "      <td></td>\n",
              "      <td>99</td>\n",
              "      <td>817</td>\n",
              "      <td>0</td>\n",
              "      <td>lattente de laube</td>\n",
              "    </tr>\n",
              "    <tr>\n",
              "      <th>3</th>\n",
              "      <td>34064</td>\n",
              "      <td>Jerusalen Libertada: Traduccin En Prosa Del It...</td>\n",
              "      <td></td>\n",
              "      <td></td>\n",
              "      <td>6104</td>\n",
              "      <td>151</td>\n",
              "      <td>0</td>\n",
              "      <td>jerusalen libertada traduccin en prosa del ita...</td>\n",
              "    </tr>\n",
              "    <tr>\n",
              "      <th>4</th>\n",
              "      <td>2119006</td>\n",
              "      <td>ZIYAA Women's Cotton Regular Kurta (ZIKUCO3215...</td>\n",
              "      <td>[Kurta Fabric : Cotton,Straight Kurta,Availabl...</td>\n",
              "      <td></td>\n",
              "      <td>2916</td>\n",
              "      <td>584</td>\n",
              "      <td>0</td>\n",
              "      <td>ziyaa woman cotton regular kurta zikuco3215xxl...</td>\n",
              "    </tr>\n",
              "  </tbody>\n",
              "</table>\n",
              "</div>\n",
              "      <button class=\"colab-df-convert\" onclick=\"convertToInteractive('df-3a69a42a-4f6b-4684-b41f-51532b89472b')\"\n",
              "              title=\"Convert this dataframe to an interactive table.\"\n",
              "              style=\"display:none;\">\n",
              "        \n",
              "  <svg xmlns=\"http://www.w3.org/2000/svg\" height=\"24px\"viewBox=\"0 0 24 24\"\n",
              "       width=\"24px\">\n",
              "    <path d=\"M0 0h24v24H0V0z\" fill=\"none\"/>\n",
              "    <path d=\"M18.56 5.44l.94 2.06.94-2.06 2.06-.94-2.06-.94-.94-2.06-.94 2.06-2.06.94zm-11 1L8.5 8.5l.94-2.06 2.06-.94-2.06-.94L8.5 2.5l-.94 2.06-2.06.94zm10 10l.94 2.06.94-2.06 2.06-.94-2.06-.94-.94-2.06-.94 2.06-2.06.94z\"/><path d=\"M17.41 7.96l-1.37-1.37c-.4-.4-.92-.59-1.43-.59-.52 0-1.04.2-1.43.59L10.3 9.45l-7.72 7.72c-.78.78-.78 2.05 0 2.83L4 21.41c.39.39.9.59 1.41.59.51 0 1.02-.2 1.41-.59l7.78-7.78 2.81-2.81c.8-.78.8-2.07 0-2.86zM5.41 20L4 18.59l7.72-7.72 1.47 1.35L5.41 20z\"/>\n",
              "  </svg>\n",
              "      </button>\n",
              "      \n",
              "  <style>\n",
              "    .colab-df-container {\n",
              "      display:flex;\n",
              "      flex-wrap:wrap;\n",
              "      gap: 12px;\n",
              "    }\n",
              "\n",
              "    .colab-df-convert {\n",
              "      background-color: #E8F0FE;\n",
              "      border: none;\n",
              "      border-radius: 50%;\n",
              "      cursor: pointer;\n",
              "      display: none;\n",
              "      fill: #1967D2;\n",
              "      height: 32px;\n",
              "      padding: 0 0 0 0;\n",
              "      width: 32px;\n",
              "    }\n",
              "\n",
              "    .colab-df-convert:hover {\n",
              "      background-color: #E2EBFA;\n",
              "      box-shadow: 0px 1px 2px rgba(60, 64, 67, 0.3), 0px 1px 3px 1px rgba(60, 64, 67, 0.15);\n",
              "      fill: #174EA6;\n",
              "    }\n",
              "\n",
              "    [theme=dark] .colab-df-convert {\n",
              "      background-color: #3B4455;\n",
              "      fill: #D2E3FC;\n",
              "    }\n",
              "\n",
              "    [theme=dark] .colab-df-convert:hover {\n",
              "      background-color: #434B5C;\n",
              "      box-shadow: 0px 1px 3px 1px rgba(0, 0, 0, 0.15);\n",
              "      filter: drop-shadow(0px 1px 2px rgba(0, 0, 0, 0.3));\n",
              "      fill: #FFFFFF;\n",
              "    }\n",
              "  </style>\n",
              "\n",
              "      <script>\n",
              "        const buttonEl =\n",
              "          document.querySelector('#df-3a69a42a-4f6b-4684-b41f-51532b89472b button.colab-df-convert');\n",
              "        buttonEl.style.display =\n",
              "          google.colab.kernel.accessAllowed ? 'block' : 'none';\n",
              "\n",
              "        async function convertToInteractive(key) {\n",
              "          const element = document.querySelector('#df-3a69a42a-4f6b-4684-b41f-51532b89472b');\n",
              "          const dataTable =\n",
              "            await google.colab.kernel.invokeFunction('convertToInteractive',\n",
              "                                                     [key], {});\n",
              "          if (!dataTable) return;\n",
              "\n",
              "          const docLinkHtml = 'Like what you see? Visit the ' +\n",
              "            '<a target=\"_blank\" href=https://colab.research.google.com/notebooks/data_table.ipynb>data table notebook</a>'\n",
              "            + ' to learn more about interactive tables.';\n",
              "          element.innerHTML = '';\n",
              "          dataTable['output_type'] = 'display_data';\n",
              "          await google.colab.output.renderOutput(dataTable, element);\n",
              "          const docLink = document.createElement('div');\n",
              "          docLink.innerHTML = docLinkHtml;\n",
              "          element.appendChild(docLink);\n",
              "        }\n",
              "      </script>\n",
              "    </div>\n",
              "  </div>\n",
              "  "
            ]
          },
          "metadata": {},
          "execution_count": 5
        }
      ]
    },
    {
      "cell_type": "code",
      "source": [
        "df=df.loc[df.kfold.isin([0,0])]\n",
        "df=df.reset_index(drop=True)\n",
        "df.head()"
      ],
      "metadata": {
        "colab": {
          "base_uri": "https://localhost:8080/",
          "height": 548
        },
        "id": "Xww0WwDyPQ4e",
        "outputId": "086c17a0-cec1-4cbb-98ae-b911644ca629"
      },
      "execution_count": null,
      "outputs": [
        {
          "output_type": "execute_result",
          "data": {
            "text/plain": [
              "   PRODUCT_ID                                              TITLE  \\\n",
              "0     1505480  Select settings [100 COUNT] Microwaveable, com...   \n",
              "1     2447219  The Customer Service In Africa: How To Improve...   \n",
              "2      369455                      Brentwood (Images of America)   \n",
              "3      404896  Claire's Sketch Pad: 50 Blank Pages to draw an...   \n",
              "4      463483  2011/12 Boston Restaurants (Zagat Survey Bosto...   \n",
              "\n",
              "                                       BULLET_POINTS  \\\n",
              "0  [INCLUDES: 100 light brown compostable bowls.,...   \n",
              "1                                                      \n",
              "2                                                      \n",
              "3                                                      \n",
              "4                                                      \n",
              "\n",
              "                                         DESCRIPTION  PRODUCT_TYPE_ID  \\\n",
              "0  Your dinnerware matters. It helps to define an...              474   \n",
              "1                                                                6142   \n",
              "2                                                                 223   \n",
              "3                                                                  10   \n",
              "4                                                               12316   \n",
              "\n",
              "   PRODUCT_LENGTH  kfold                                               text  \n",
              "0            2108      0  select setting 100 count microwaveable compost...  \n",
              "1              12      0  customer service africa improve customer exper...  \n",
              "2             229      0                            brentwood image america  \n",
              "3              81      0  claires sketch pad 50 blank page draw anything...  \n",
              "4              68      0  201112 boston restaurant zagat survey boston r...  "
            ],
            "text/html": [
              "\n",
              "  <div id=\"df-0fd87be6-e8c0-44b5-a204-a942c7dc1619\">\n",
              "    <div class=\"colab-df-container\">\n",
              "      <div>\n",
              "<style scoped>\n",
              "    .dataframe tbody tr th:only-of-type {\n",
              "        vertical-align: middle;\n",
              "    }\n",
              "\n",
              "    .dataframe tbody tr th {\n",
              "        vertical-align: top;\n",
              "    }\n",
              "\n",
              "    .dataframe thead th {\n",
              "        text-align: right;\n",
              "    }\n",
              "</style>\n",
              "<table border=\"1\" class=\"dataframe\">\n",
              "  <thead>\n",
              "    <tr style=\"text-align: right;\">\n",
              "      <th></th>\n",
              "      <th>PRODUCT_ID</th>\n",
              "      <th>TITLE</th>\n",
              "      <th>BULLET_POINTS</th>\n",
              "      <th>DESCRIPTION</th>\n",
              "      <th>PRODUCT_TYPE_ID</th>\n",
              "      <th>PRODUCT_LENGTH</th>\n",
              "      <th>kfold</th>\n",
              "      <th>text</th>\n",
              "    </tr>\n",
              "  </thead>\n",
              "  <tbody>\n",
              "    <tr>\n",
              "      <th>0</th>\n",
              "      <td>1505480</td>\n",
              "      <td>Select settings [100 COUNT] Microwaveable, com...</td>\n",
              "      <td>[INCLUDES: 100 light brown compostable bowls.,...</td>\n",
              "      <td>Your dinnerware matters. It helps to define an...</td>\n",
              "      <td>474</td>\n",
              "      <td>2108</td>\n",
              "      <td>0</td>\n",
              "      <td>select setting 100 count microwaveable compost...</td>\n",
              "    </tr>\n",
              "    <tr>\n",
              "      <th>1</th>\n",
              "      <td>2447219</td>\n",
              "      <td>The Customer Service In Africa: How To Improve...</td>\n",
              "      <td></td>\n",
              "      <td></td>\n",
              "      <td>6142</td>\n",
              "      <td>12</td>\n",
              "      <td>0</td>\n",
              "      <td>customer service africa improve customer exper...</td>\n",
              "    </tr>\n",
              "    <tr>\n",
              "      <th>2</th>\n",
              "      <td>369455</td>\n",
              "      <td>Brentwood (Images of America)</td>\n",
              "      <td></td>\n",
              "      <td></td>\n",
              "      <td>223</td>\n",
              "      <td>229</td>\n",
              "      <td>0</td>\n",
              "      <td>brentwood image america</td>\n",
              "    </tr>\n",
              "    <tr>\n",
              "      <th>3</th>\n",
              "      <td>404896</td>\n",
              "      <td>Claire's Sketch Pad: 50 Blank Pages to draw an...</td>\n",
              "      <td></td>\n",
              "      <td></td>\n",
              "      <td>10</td>\n",
              "      <td>81</td>\n",
              "      <td>0</td>\n",
              "      <td>claires sketch pad 50 blank page draw anything...</td>\n",
              "    </tr>\n",
              "    <tr>\n",
              "      <th>4</th>\n",
              "      <td>463483</td>\n",
              "      <td>2011/12 Boston Restaurants (Zagat Survey Bosto...</td>\n",
              "      <td></td>\n",
              "      <td></td>\n",
              "      <td>12316</td>\n",
              "      <td>68</td>\n",
              "      <td>0</td>\n",
              "      <td>201112 boston restaurant zagat survey boston r...</td>\n",
              "    </tr>\n",
              "  </tbody>\n",
              "</table>\n",
              "</div>\n",
              "      <button class=\"colab-df-convert\" onclick=\"convertToInteractive('df-0fd87be6-e8c0-44b5-a204-a942c7dc1619')\"\n",
              "              title=\"Convert this dataframe to an interactive table.\"\n",
              "              style=\"display:none;\">\n",
              "        \n",
              "  <svg xmlns=\"http://www.w3.org/2000/svg\" height=\"24px\"viewBox=\"0 0 24 24\"\n",
              "       width=\"24px\">\n",
              "    <path d=\"M0 0h24v24H0V0z\" fill=\"none\"/>\n",
              "    <path d=\"M18.56 5.44l.94 2.06.94-2.06 2.06-.94-2.06-.94-.94-2.06-.94 2.06-2.06.94zm-11 1L8.5 8.5l.94-2.06 2.06-.94-2.06-.94L8.5 2.5l-.94 2.06-2.06.94zm10 10l.94 2.06.94-2.06 2.06-.94-2.06-.94-.94-2.06-.94 2.06-2.06.94z\"/><path d=\"M17.41 7.96l-1.37-1.37c-.4-.4-.92-.59-1.43-.59-.52 0-1.04.2-1.43.59L10.3 9.45l-7.72 7.72c-.78.78-.78 2.05 0 2.83L4 21.41c.39.39.9.59 1.41.59.51 0 1.02-.2 1.41-.59l7.78-7.78 2.81-2.81c.8-.78.8-2.07 0-2.86zM5.41 20L4 18.59l7.72-7.72 1.47 1.35L5.41 20z\"/>\n",
              "  </svg>\n",
              "      </button>\n",
              "      \n",
              "  <style>\n",
              "    .colab-df-container {\n",
              "      display:flex;\n",
              "      flex-wrap:wrap;\n",
              "      gap: 12px;\n",
              "    }\n",
              "\n",
              "    .colab-df-convert {\n",
              "      background-color: #E8F0FE;\n",
              "      border: none;\n",
              "      border-radius: 50%;\n",
              "      cursor: pointer;\n",
              "      display: none;\n",
              "      fill: #1967D2;\n",
              "      height: 32px;\n",
              "      padding: 0 0 0 0;\n",
              "      width: 32px;\n",
              "    }\n",
              "\n",
              "    .colab-df-convert:hover {\n",
              "      background-color: #E2EBFA;\n",
              "      box-shadow: 0px 1px 2px rgba(60, 64, 67, 0.3), 0px 1px 3px 1px rgba(60, 64, 67, 0.15);\n",
              "      fill: #174EA6;\n",
              "    }\n",
              "\n",
              "    [theme=dark] .colab-df-convert {\n",
              "      background-color: #3B4455;\n",
              "      fill: #D2E3FC;\n",
              "    }\n",
              "\n",
              "    [theme=dark] .colab-df-convert:hover {\n",
              "      background-color: #434B5C;\n",
              "      box-shadow: 0px 1px 3px 1px rgba(0, 0, 0, 0.15);\n",
              "      filter: drop-shadow(0px 1px 2px rgba(0, 0, 0, 0.3));\n",
              "      fill: #FFFFFF;\n",
              "    }\n",
              "  </style>\n",
              "\n",
              "      <script>\n",
              "        const buttonEl =\n",
              "          document.querySelector('#df-0fd87be6-e8c0-44b5-a204-a942c7dc1619 button.colab-df-convert');\n",
              "        buttonEl.style.display =\n",
              "          google.colab.kernel.accessAllowed ? 'block' : 'none';\n",
              "\n",
              "        async function convertToInteractive(key) {\n",
              "          const element = document.querySelector('#df-0fd87be6-e8c0-44b5-a204-a942c7dc1619');\n",
              "          const dataTable =\n",
              "            await google.colab.kernel.invokeFunction('convertToInteractive',\n",
              "                                                     [key], {});\n",
              "          if (!dataTable) return;\n",
              "\n",
              "          const docLinkHtml = 'Like what you see? Visit the ' +\n",
              "            '<a target=\"_blank\" href=https://colab.research.google.com/notebooks/data_table.ipynb>data table notebook</a>'\n",
              "            + ' to learn more about interactive tables.';\n",
              "          element.innerHTML = '';\n",
              "          dataTable['output_type'] = 'display_data';\n",
              "          await google.colab.output.renderOutput(dataTable, element);\n",
              "          const docLink = document.createElement('div');\n",
              "          docLink.innerHTML = docLinkHtml;\n",
              "          element.appendChild(docLink);\n",
              "        }\n",
              "      </script>\n",
              "    </div>\n",
              "  </div>\n",
              "  "
            ]
          },
          "metadata": {},
          "execution_count": 4
        }
      ]
    },
    {
      "cell_type": "code",
      "source": [
        "import seaborn as sns"
      ],
      "metadata": {
        "id": "HPQr5SsNLsJM"
      },
      "execution_count": null,
      "outputs": []
    },
    {
      "cell_type": "code",
      "source": [
        "sns.countplot(x='kfold' , data=df)"
      ],
      "metadata": {
        "colab": {
          "base_uri": "https://localhost:8080/",
          "height": 466
        },
        "id": "6hLdufxELmeS",
        "outputId": "cf56ee7e-7e51-40af-ad1d-afb447a4810f"
      },
      "execution_count": null,
      "outputs": [
        {
          "output_type": "execute_result",
          "data": {
            "text/plain": [
              "<Axes: xlabel='kfold', ylabel='count'>"
            ]
          },
          "metadata": {},
          "execution_count": 6
        },
        {
          "output_type": "display_data",
          "data": {
            "text/plain": [
              "<Figure size 640x480 with 1 Axes>"
            ],
            "image/png": "[encoded data removed]"
          },
          "metadata": {}
        }
      ]
    },
    {
      "cell_type": "code",
      "source": [
        "lengths = df['PRODUCT_LENGTH']\n",
        "\n",
        "\n",
        "bin_edges = pd.qcut(lengths, q=30, duplicates='drop')\n",
        "\n",
        "class_labels = pd.factorize(bin_edges)[0] + 1\n",
        "\n",
        "df['class'] = class_labels\n",
        "\n",
        "class_ranges = df.groupby('class')['PRODUCT_LENGTH'].agg(['min', 'max'])\n",
        "\n",
        "df['class_range'] = df['class'].map(class_ranges.apply(lambda x: f\"{x['min']}-{x['max']}\", axis=1))"
      ],
      "metadata": {
        "id": "U_KSt-McVFPq"
      },
      "execution_count": null,
      "outputs": []
    },
    {
      "cell_type": "code",
      "source": [
        "df.head()"
      ],
      "metadata": {
        "colab": {
          "base_uri": "https://localhost:8080/",
          "height": 548
        },
        "id": "-7OJWiOOVjme",
        "outputId": "fc98d80a-2118-4d04-a75c-e1270d9d4c8a"
      },
      "execution_count": null,
      "outputs": [
        {
          "output_type": "execute_result",
          "data": {
            "text/plain": [
              "   PRODUCT_ID                                              TITLE  \\\n",
              "0     1505480  Select settings [100 COUNT] Microwaveable, com...   \n",
              "1     2447219  The Customer Service In Africa: How To Improve...   \n",
              "2      369455                      Brentwood (Images of America)   \n",
              "3      404896  Claire's Sketch Pad: 50 Blank Pages to draw an...   \n",
              "4      463483  2011/12 Boston Restaurants (Zagat Survey Bosto...   \n",
              "\n",
              "                                       BULLET_POINTS  \\\n",
              "0  [INCLUDES: 100 light brown compostable bowls.,...   \n",
              "1                                                      \n",
              "2                                                      \n",
              "3                                                      \n",
              "4                                                      \n",
              "\n",
              "                                         DESCRIPTION  PRODUCT_TYPE_ID  \\\n",
              "0  Your dinnerware matters. It helps to define an...              474   \n",
              "1                                                                6142   \n",
              "2                                                                 223   \n",
              "3                                                                  10   \n",
              "4                                                               12316   \n",
              "\n",
              "   PRODUCT_LENGTH  kfold                                               text  \n",
              "0            2108      0  select setting 100 count microwaveable compost...  \n",
              "1              12      0  customer service africa improve customer exper...  \n",
              "2             229      0                            brentwood image america  \n",
              "3              81      0  claires sketch pad 50 blank page draw anything...  \n",
              "4              68      0  201112 boston restaurant zagat survey boston r...  "
            ],
            "text/html": [
              "\n",
              "  <div id=\"df-920581c9-2184-41ab-bd8e-b61d67d8e53a\">\n",
              "    <div class=\"colab-df-container\">\n",
              "      <div>\n",
              "<style scoped>\n",
              "    .dataframe tbody tr th:only-of-type {\n",
              "        vertical-align: middle;\n",
              "    }\n",
              "\n",
              "    .dataframe tbody tr th {\n",
              "        vertical-align: top;\n",
              "    }\n",
              "\n",
              "    .dataframe thead th {\n",
              "        text-align: right;\n",
              "    }\n",
              "</style>\n",
              "<table border=\"1\" class=\"dataframe\">\n",
              "  <thead>\n",
              "    <tr style=\"text-align: right;\">\n",
              "      <th></th>\n",
              "      <th>PRODUCT_ID</th>\n",
              "      <th>TITLE</th>\n",
              "      <th>BULLET_POINTS</th>\n",
              "      <th>DESCRIPTION</th>\n",
              "      <th>PRODUCT_TYPE_ID</th>\n",
              "      <th>PRODUCT_LENGTH</th>\n",
              "      <th>kfold</th>\n",
              "      <th>text</th>\n",
              "    </tr>\n",
              "  </thead>\n",
              "  <tbody>\n",
              "    <tr>\n",
              "      <th>0</th>\n",
              "      <td>1505480</td>\n",
              "      <td>Select settings [100 COUNT] Microwaveable, com...</td>\n",
              "      <td>[INCLUDES: 100 light brown compostable bowls.,...</td>\n",
              "      <td>Your dinnerware matters. It helps to define an...</td>\n",
              "      <td>474</td>\n",
              "      <td>2108</td>\n",
              "      <td>0</td>\n",
              "      <td>select setting 100 count microwaveable compost...</td>\n",
              "    </tr>\n",
              "    <tr>\n",
              "      <th>1</th>\n",
              "      <td>2447219</td>\n",
              "      <td>The Customer Service In Africa: How To Improve...</td>\n",
              "      <td></td>\n",
              "      <td></td>\n",
              "      <td>6142</td>\n",
              "      <td>12</td>\n",
              "      <td>0</td>\n",
              "      <td>customer service africa improve customer exper...</td>\n",
              "    </tr>\n",
              "    <tr>\n",
              "      <th>2</th>\n",
              "      <td>369455</td>\n",
              "      <td>Brentwood (Images of America)</td>\n",
              "      <td></td>\n",
              "      <td></td>\n",
              "      <td>223</td>\n",
              "      <td>229</td>\n",
              "      <td>0</td>\n",
              "      <td>brentwood image america</td>\n",
              "    </tr>\n",
              "    <tr>\n",
              "      <th>3</th>\n",
              "      <td>404896</td>\n",
              "      <td>Claire's Sketch Pad: 50 Blank Pages to draw an...</td>\n",
              "      <td></td>\n",
              "      <td></td>\n",
              "      <td>10</td>\n",
              "      <td>81</td>\n",
              "      <td>0</td>\n",
              "      <td>claires sketch pad 50 blank page draw anything...</td>\n",
              "    </tr>\n",
              "    <tr>\n",
              "      <th>4</th>\n",
              "      <td>463483</td>\n",
              "      <td>2011/12 Boston Restaurants (Zagat Survey Bosto...</td>\n",
              "      <td></td>\n",
              "      <td></td>\n",
              "      <td>12316</td>\n",
              "      <td>68</td>\n",
              "      <td>0</td>\n",
              "      <td>201112 boston restaurant zagat survey boston r...</td>\n",
              "    </tr>\n",
              "  </tbody>\n",
              "</table>\n",
              "</div>\n",
              "      <button class=\"colab-df-convert\" onclick=\"convertToInteractive('df-920581c9-2184-41ab-bd8e-b61d67d8e53a')\"\n",
              "              title=\"Convert this dataframe to an interactive table.\"\n",
              "              style=\"display:none;\">\n",
              "        \n",
              "  <svg xmlns=\"http://www.w3.org/2000/svg\" height=\"24px\"viewBox=\"0 0 24 24\"\n",
              "       width=\"24px\">\n",
              "    <path d=\"M0 0h24v24H0V0z\" fill=\"none\"/>\n",
              "    <path d=\"M18.56 5.44l.94 2.06.94-2.06 2.06-.94-2.06-.94-.94-2.06-.94 2.06-2.06.94zm-11 1L8.5 8.5l.94-2.06 2.06-.94-2.06-.94L8.5 2.5l-.94 2.06-2.06.94zm10 10l.94 2.06.94-2.06 2.06-.94-2.06-.94-.94-2.06-.94 2.06-2.06.94z\"/><path d=\"M17.41 7.96l-1.37-1.37c-.4-.4-.92-.59-1.43-.59-.52 0-1.04.2-1.43.59L10.3 9.45l-7.72 7.72c-.78.78-.78 2.05 0 2.83L4 21.41c.39.39.9.59 1.41.59.51 0 1.02-.2 1.41-.59l7.78-7.78 2.81-2.81c.8-.78.8-2.07 0-2.86zM5.41 20L4 18.59l7.72-7.72 1.47 1.35L5.41 20z\"/>\n",
              "  </svg>\n",
              "      </button>\n",
              "      \n",
              "  <style>\n",
              "    .colab-df-container {\n",
              "      display:flex;\n",
              "      flex-wrap:wrap;\n",
              "      gap: 12px;\n",
              "    }\n",
              "\n",
              "    .colab-df-convert {\n",
              "      background-color: #E8F0FE;\n",
              "      border: none;\n",
              "      border-radius: 50%;\n",
              "      cursor: pointer;\n",
              "      display: none;\n",
              "      fill: #1967D2;\n",
              "      height: 32px;\n",
              "      padding: 0 0 0 0;\n",
              "      width: 32px;\n",
              "    }\n",
              "\n",
              "    .colab-df-convert:hover {\n",
              "      background-color: #E2EBFA;\n",
              "      box-shadow: 0px 1px 2px rgba(60, 64, 67, 0.3), 0px 1px 3px 1px rgba(60, 64, 67, 0.15);\n",
              "      fill: #174EA6;\n",
              "    }\n",
              "\n",
              "    [theme=dark] .colab-df-convert {\n",
              "      background-color: #3B4455;\n",
              "      fill: #D2E3FC;\n",
              "    }\n",
              "\n",
              "    [theme=dark] .colab-df-convert:hover {\n",
              "      background-color: #434B5C;\n",
              "      box-shadow: 0px 1px 3px 1px rgba(0, 0, 0, 0.15);\n",
              "      filter: drop-shadow(0px 1px 2px rgba(0, 0, 0, 0.3));\n",
              "      fill: #FFFFFF;\n",
              "    }\n",
              "  </style>\n",
              "\n",
              "      <script>\n",
              "        const buttonEl =\n",
              "          document.querySelector('#df-920581c9-2184-41ab-bd8e-b61d67d8e53a button.colab-df-convert');\n",
              "        buttonEl.style.display =\n",
              "          google.colab.kernel.accessAllowed ? 'block' : 'none';\n",
              "\n",
              "        async function convertToInteractive(key) {\n",
              "          const element = document.querySelector('#df-920581c9-2184-41ab-bd8e-b61d67d8e53a');\n",
              "          const dataTable =\n",
              "            await google.colab.kernel.invokeFunction('convertToInteractive',\n",
              "                                                     [key], {});\n",
              "          if (!dataTable) return;\n",
              "\n",
              "          const docLinkHtml = 'Like what you see? Visit the ' +\n",
              "            '<a target=\"_blank\" href=https://colab.research.google.com/notebooks/data_table.ipynb>data table notebook</a>'\n",
              "            + ' to learn more about interactive tables.';\n",
              "          element.innerHTML = '';\n",
              "          dataTable['output_type'] = 'display_data';\n",
              "          await google.colab.output.renderOutput(dataTable, element);\n",
              "          const docLink = document.createElement('div');\n",
              "          docLink.innerHTML = docLinkHtml;\n",
              "          element.appendChild(docLink);\n",
              "        }\n",
              "      </script>\n",
              "    </div>\n",
              "  </div>\n",
              "  "
            ]
          },
          "metadata": {},
          "execution_count": 10
        }
      ]
    },
    {
      "cell_type": "code",
      "source": [
        "import pandas as pd\n",
        "from sklearn.feature_extraction.text import TfidfVectorizer\n",
        "from sklearn.neighbors import KNeighborsClassifier\n",
        "from sklearn.model_selection import train_test_split\n",
        "from sklearn.metrics import classification_report\n",
        "from sklearn.model_selection import cross_val_score\n",
        "import pandas as pd\n",
        "import numpy as np\n",
        "import csv\n",
        "import nltk\n",
        "from nltk.corpus import stopwords\n",
        "from nltk.stem import WordNetLemmatizer\n",
        "from sklearn.feature_selection import chi2\n",
        "import re\n",
        "from sklearn.linear_model import LogisticRegression\n",
        "from sklearn.naive_bayes import MultinomialNB\n",
        "from sklearn.metrics import classification_report, f1_score, accuracy_score, confusion_matrix\n",
        "from sklearn.svm import LinearSVC\n",
        "from sklearn.linear_model import Ridge\n",
        "from sklearn.metrics import mean_squared_error\n",
        "from sklearn.ensemble import VotingClassifier\n",
        "from sklearn.datasets import make_classification\n",
        "from sklearn.svm import SVC\n",
        "     \n",
        "\n"
      ],
      "metadata": {
        "id": "qjYM-DqtJDtI"
      },
      "execution_count": null,
      "outputs": []
    },
    {
      "cell_type": "code",
      "source": [
        "df=df.fillna(\" \")"
      ],
      "metadata": {
        "id": "Utcft7lfNgjE"
      },
      "execution_count": null,
      "outputs": []
    },
    {
      "cell_type": "code",
      "source": [
        "X = df['text'].values\n",
        "y = df['PRODUCT_LENGTH'].values\n"
      ],
      "metadata": {
        "id": "WtjhImdTM_wJ"
      },
      "execution_count": null,
      "outputs": []
    },
    {
      "cell_type": "code",
      "source": [
        "import seaborn as sns\n",
        "sns.boxplot(x='class_range',y='PRODUCT_LENGTH',data=df)"
      ],
      "metadata": {
        "colab": {
          "base_uri": "https://localhost:8080/",
          "height": 467
        },
        "id": "uhPBHeVOTqhT",
        "outputId": "216342a2-0cb4-407c-d018-eec725f1728d"
      },
      "execution_count": null,
      "outputs": [
        {
          "output_type": "execute_result",
          "data": {
            "text/plain": [
              "<Axes: xlabel='class_range', ylabel='PRODUCT_LENGTH'>"
            ]
          },
          "metadata": {},
          "execution_count": 17
        },
        {
          "output_type": "display_data",
          "data": {
            "text/plain": [
              "<Figure size 640x480 with 1 Axes>"
            ],
            "image/png": "[encoded data removed]"
          },
          "metadata": {}
        }
      ]
    },
    {
      "cell_type": "code",
      "source": [
        "vectorizer = TfidfVectorizer()\n",
        "X = vectorizer.fit_transform(X)"
      ],
      "metadata": {
        "id": "BBND6HWvNKGY"
      },
      "execution_count": null,
      "outputs": []
    },
    {
      "cell_type": "code",
      "source": [
        "X_train, X_test, y_train, y_test = train_test_split(X, y, test_size=0.2, random_state=42)\n"
      ],
      "metadata": {
        "id": "783Lmaz1M_2p"
      },
      "execution_count": null,
      "outputs": []
    },
    {
      "cell_type": "code",
      "source": [
        "print(X_train[0])"
      ],
      "metadata": {
        "colab": {
          "base_uri": "https://localhost:8080/"
        },
        "id": "Q0bYWNjTxpP7",
        "outputId": "96e0e149-60c0-48e8-de78-ce0374e1e50a"
      },
      "execution_count": null,
      "outputs": [
        {
          "output_type": "stream",
          "name": "stdout",
          "text": [
            "  (0, 351445)\t0.248507452547683\n",
            "  (0, 351441)\t0.248507452547683\n",
            "  (0, 672009)\t0.2347415133407202\n",
            "  (0, 351438)\t0.2347415133407202\n",
            "  (0, 671150)\t0.2098615753582702\n",
            "  (0, 463788)\t0.16399076187253495\n",
            "  (0, 479306)\t0.16515080265958398\n",
            "  (0, 479199)\t0.16427448172958345\n",
            "  (0, 564761)\t0.15401548337509582\n",
            "  (0, 110233)\t0.23475942435004232\n",
            "  (0, 482573)\t0.10485782114014573\n",
            "  (0, 373442)\t0.42217189610734146\n",
            "  (0, 562395)\t0.1245946145666148\n",
            "  (0, 600724)\t0.09715011858163057\n",
            "  (0, 624956)\t0.07355794358703487\n",
            "  (0, 203334)\t0.19082711136741756\n",
            "  (0, 255495)\t0.12081288790845388\n",
            "  (0, 639660)\t0.19827812334482997\n",
            "  (0, 140394)\t0.07722221596821556\n",
            "  (0, 478801)\t0.08912352545729572\n",
            "  (0, 95962)\t0.09755809836214349\n",
            "  (0, 631468)\t0.10043909286465774\n",
            "  (0, 147888)\t0.23491057962042053\n",
            "  (0, 163103)\t0.20507715381850783\n",
            "  (0, 269926)\t0.057803635392759144\n",
            "  (0, 462287)\t0.11310212537760042\n",
            "  (0, 94358)\t0.0869274027797828\n",
            "  (0, 567628)\t0.13357936832107922\n",
            "  (0, 101687)\t0.09688431515603316\n",
            "  (0, 215409)\t0.10285494186142628\n",
            "  (0, 495453)\t0.09058906894434014\n",
            "  (0, 85392)\t0.08251787153411955\n",
            "  (0, 195135)\t0.06513703367904866\n",
            "  (0, 156668)\t0.06892971490060108\n",
            "  (0, 216039)\t0.08290589034357242\n",
            "  (0, 409504)\t0.08115015371752259\n",
            "  (0, 114199)\t0.06429143353116346\n",
            "  (0, 238955)\t0.055022705716740325\n",
            "  (0, 485045)\t0.07009213207659919\n",
            "  (0, 563234)\t0.06113811901914947\n",
            "  (0, 594702)\t0.08246205870424227\n"
          ]
        }
      ]
    },
    {
      "cell_type": "code",
      "source": [
        "print(X_test)"
      ],
      "metadata": {
        "colab": {
          "base_uri": "https://localhost:8080/"
        },
        "id": "Ev4IPYHFxu9B",
        "outputId": "07b9ff0a-16e0-44d7-82a9-b41d113f2ec2"
      },
      "execution_count": null,
      "outputs": [
        {
          "output_type": "stream",
          "name": "stdout",
          "text": [
            "  (0, 165259)\t0.6754423614257279\n",
            "  (0, 526466)\t0.564290134617756\n",
            "  (0, 361953)\t0.29422618401112016\n",
            "  (0, 209134)\t0.26174764638127973\n",
            "  (0, 366928)\t0.2650912722456668\n",
            "  (1, 543014)\t0.131484652693225\n",
            "  (1, 354457)\t0.12420112973619718\n",
            "  (1, 120621)\t0.131484652693225\n",
            "  (1, 444696)\t0.131484652693225\n",
            "  (1, 378779)\t0.3816721946706662\n",
            "  (1, 164329)\t0.07411586069150009\n",
            "  (1, 601444)\t0.46718259725325767\n",
            "  (1, 391537)\t0.07671520941714274\n",
            "  (1, 600413)\t0.0712053105921918\n",
            "  (1, 31362)\t0.32890225146642454\n",
            "  (1, 592114)\t0.05139415759083262\n",
            "  (1, 290167)\t0.06539293503394905\n",
            "  (1, 508356)\t0.4618185106656895\n",
            "  (1, 184313)\t0.05562135840941049\n",
            "  (1, 301508)\t0.047358026529122965\n",
            "  (1, 412575)\t0.054351276570954794\n",
            "  (1, 88658)\t0.05941000295100815\n",
            "  (1, 249031)\t0.06407543963700185\n",
            "  (1, 482539)\t0.05407876566907628\n",
            "  (1, 394607)\t0.09496276163400767\n",
            "  :\t:\n",
            "  (39999, 353610)\t0.041609745839194495\n",
            "  (39999, 419056)\t0.13725085982561416\n",
            "  (39999, 563234)\t0.018717429783990675\n",
            "  (39999, 134405)\t0.16672649274849324\n",
            "  (39999, 57761)\t0.03094228633140134\n",
            "  (39999, 537092)\t0.026633326194972464\n",
            "  (39999, 487056)\t0.016476768118897357\n",
            "  (39999, 184499)\t0.039092774904225136\n",
            "  (39999, 382330)\t0.018715000637633865\n",
            "  (39999, 582819)\t0.027216936898614524\n",
            "  (39999, 594702)\t0.025245752051294364\n",
            "  (39999, 222514)\t0.09382244692984157\n",
            "  (39999, 315086)\t0.02250524471050635\n",
            "  (39999, 628731)\t0.06860839150149264\n",
            "  (39999, 405134)\t0.07138639424279582\n",
            "  (39999, 405675)\t0.033117927195728585\n",
            "  (39999, 244326)\t0.04090464446137862\n",
            "  (39999, 330350)\t0.07833918189410664\n",
            "  (39999, 221944)\t0.025966513973191288\n",
            "  (39999, 390767)\t0.051833737139410405\n",
            "  (39999, 432880)\t0.024344144755159215\n",
            "  (39999, 473306)\t0.02059648630272169\n",
            "  (39999, 179143)\t0.03224863486882199\n",
            "  (39999, 389339)\t0.0306873047307506\n",
            "  (39999, 17099)\t0.03056248288491908\n"
          ]
        }
      ]
    },
    {
      "cell_type": "code",
      "source": [
        "LR=LogisticRegression(solver = 'liblinear', C=10, penalty = 'l2')\n",
        "LR.fit(X_train, y_train)"
      ],
      "metadata": {
        "id": "4EM3bVjlxYQf"
      },
      "execution_count": null,
      "outputs": []
    },
    {
      "cell_type": "code",
      "source": [
        "knn = KNeighborsClassifier(n_neighbors=3)\n",
        "knn.fit(X_train, y_train)\n"
      ],
      "metadata": {
        "colab": {
          "base_uri": "https://localhost:8080/",
          "height": 74
        },
        "id": "nOdmCWKcM_5f",
        "outputId": "57ce399d-4dc0-42f5-bbe1-54ae719ddc9c"
      },
      "execution_count": null,
      "outputs": [
        {
          "output_type": "execute_result",
          "data": {
            "text/plain": [
              "KNeighborsClassifier(n_neighbors=3)"
            ],
            "text/html": [
              "<style>#sk-container-id-2 {color: black;background-color: white;}#sk-container-id-2 pre{padding: 0;}#sk-container-id-2 div.sk-toggleable {background-color: white;}#sk-container-id-2 label.sk-toggleable__label {cursor: pointer;display: block;width: 100%;margin-bottom: 0;padding: 0.3em;box-sizing: border-box;text-align: center;}#sk-container-id-2 label.sk-toggleable__label-arrow:before {content: \"▸\";float: left;margin-right: 0.25em;color: #696969;}#sk-container-id-2 label.sk-toggleable__label-arrow:hover:before {color: black;}#sk-container-id-2 div.sk-estimator:hover label.sk-toggleable__label-arrow:before {color: black;}#sk-container-id-2 div.sk-toggleable__content {max-height: 0;max-width: 0;overflow: hidden;text-align: left;background-color: #f0f8ff;}#sk-container-id-2 div.sk-toggleable__content pre {margin: 0.2em;color: black;border-radius: 0.25em;background-color: #f0f8ff;}#sk-container-id-2 input.sk-toggleable__control:checked~div.sk-toggleable__content {max-height: 200px;max-width: 100%;overflow: auto;}#sk-container-id-2 input.sk-toggleable__control:checked~label.sk-toggleable__label-arrow:before {content: \"▾\";}#sk-container-id-2 div.sk-estimator input.sk-toggleable__control:checked~label.sk-toggleable__label {background-color: #d4ebff;}#sk-container-id-2 div.sk-label input.sk-toggleable__control:checked~label.sk-toggleable__label {background-color: #d4ebff;}#sk-container-id-2 input.sk-hidden--visually {border: 0;clip: rect(1px 1px 1px 1px);clip: rect(1px, 1px, 1px, 1px);height: 1px;margin: -1px;overflow: hidden;padding: 0;position: absolute;width: 1px;}#sk-container-id-2 div.sk-estimator {font-family: monospace;background-color: #f0f8ff;border: 1px dotted black;border-radius: 0.25em;box-sizing: border-box;margin-bottom: 0.5em;}#sk-container-id-2 div.sk-estimator:hover {background-color: #d4ebff;}#sk-container-id-2 div.sk-parallel-item::after {content: \"\";width: 100%;border-bottom: 1px solid gray;flex-grow: 1;}#sk-container-id-2 div.sk-label:hover label.sk-toggleable__label {background-color: #d4ebff;}#sk-container-id-2 div.sk-serial::before {content: \"\";position: absolute;border-left: 1px solid gray;box-sizing: border-box;top: 0;bottom: 0;left: 50%;z-index: 0;}#sk-container-id-2 div.sk-serial {display: flex;flex-direction: column;align-items: center;background-color: white;padding-right: 0.2em;padding-left: 0.2em;position: relative;}#sk-container-id-2 div.sk-item {position: relative;z-index: 1;}#sk-container-id-2 div.sk-parallel {display: flex;align-items: stretch;justify-content: center;background-color: white;position: relative;}#sk-container-id-2 div.sk-item::before, #sk-container-id-2 div.sk-parallel-item::before {content: \"\";position: absolute;border-left: 1px solid gray;box-sizing: border-box;top: 0;bottom: 0;left: 50%;z-index: -1;}#sk-container-id-2 div.sk-parallel-item {display: flex;flex-direction: column;z-index: 1;position: relative;background-color: white;}#sk-container-id-2 div.sk-parallel-item:first-child::after {align-self: flex-end;width: 50%;}#sk-container-id-2 div.sk-parallel-item:last-child::after {align-self: flex-start;width: 50%;}#sk-container-id-2 div.sk-parallel-item:only-child::after {width: 0;}#sk-container-id-2 div.sk-dashed-wrapped {border: 1px dashed gray;margin: 0 0.4em 0.5em 0.4em;box-sizing: border-box;padding-bottom: 0.4em;background-color: white;}#sk-container-id-2 div.sk-label label {font-family: monospace;font-weight: bold;display: inline-block;line-height: 1.2em;}#sk-container-id-2 div.sk-label-container {text-align: center;}#sk-container-id-2 div.sk-container {/* jupyter's `normalize.less` sets `[hidden] { display: none; }` but bootstrap.min.css set `[hidden] { display: none !important; }` so we also need the `!important` here to be able to override the default hidden behavior on the sphinx rendered scikit-learn.org. See: https://github.com/scikit-learn/scikit-learn/issues/21755 */display: inline-block !important;position: relative;}#sk-container-id-2 div.sk-text-repr-fallback {display: none;}</style><div id=\"sk-container-id-2\" class=\"sk-top-container\"><div class=\"sk-text-repr-fallback\"><pre>KNeighborsClassifier(n_neighbors=3)</pre><b>In a Jupyter environment, please rerun this cell to show the HTML representation or trust the notebook. <br />On GitHub, the HTML representation is unable to render, please try loading this page with nbviewer.org.</b></div><div class=\"sk-container\" hidden><div class=\"sk-item\"><div class=\"sk-estimator sk-toggleable\"><input class=\"sk-toggleable__control sk-hidden--visually\" id=\"sk-estimator-id-2\" type=\"checkbox\" checked><label for=\"sk-estimator-id-2\" class=\"sk-toggleable__label sk-toggleable__label-arrow\">KNeighborsClassifier</label><div class=\"sk-toggleable__content\"><pre>KNeighborsClassifier(n_neighbors=3)</pre></div></div></div></div></div>"
            ]
          },
          "metadata": {},
          "execution_count": 26
        }
      ]
    },
    {
      "cell_type": "code",
      "source": [
        "clf = LinearSVC()\n",
        "clf.fit(X_train, y_train)"
      ],
      "metadata": {
        "id": "aC4QMMZ6Xd1w"
      },
      "execution_count": null,
      "outputs": []
    },
    {
      "cell_type": "code",
      "source": [
        "y_pred1 = LR.predict(X_test)\n"
      ],
      "metadata": {
        "id": "YreA61fyM_8_"
      },
      "execution_count": null,
      "outputs": []
    },
    {
      "cell_type": "code",
      "source": [
        "print(y_pred1)"
      ],
      "metadata": {
        "colab": {
          "base_uri": "https://localhost:8080/"
        },
        "id": "3QcEfjaBYHIK",
        "outputId": "91b0be80-0cbb-4aac-a063-63032f76bfc5"
      },
      "execution_count": null,
      "outputs": [
        {
          "output_type": "stream",
          "name": "stdout",
          "text": [
            "['46-52' '143-164' '99-116' ... '99-116' '0-4' '10-12']\n"
          ]
        }
      ]
    },
    {
      "cell_type": "code",
      "source": [
        "accuracy1 = sum(y_test == y_pred1) / len(y_test)\n",
        "print(\"Accuracy: {:.2f}%\".format(accuracy1 * 100))"
      ],
      "metadata": {
        "colab": {
          "base_uri": "https://localhost:8080/"
        },
        "id": "NCcVYNz4YIoL",
        "outputId": "5092c103-b12f-47f4-c5a6-f1732c8e3317"
      },
      "execution_count": null,
      "outputs": [
        {
          "output_type": "stream",
          "name": "stdout",
          "text": [
            "Accuracy: 22.79%\n"
          ]
        }
      ]
    },
    {
      "cell_type": "code",
      "source": [
        "y_pred2 = knn.predict(X_test)"
      ],
      "metadata": {
        "id": "rfxBoxVeXwAK"
      },
      "execution_count": null,
      "outputs": []
    },
    {
      "cell_type": "code",
      "source": [
        "print(y_pred2)"
      ],
      "metadata": {
        "colab": {
          "base_uri": "https://localhost:8080/"
        },
        "id": "YmcrMOYVYRBu",
        "outputId": "adac7b11-d495-46ad-9c97-d656257dc2d5"
      },
      "execution_count": null,
      "outputs": [
        {
          "output_type": "stream",
          "name": "stdout",
          "text": [
            "['10-12' '143-164' '10-12' ... '10-12' '10-12' '10-12']\n"
          ]
        }
      ]
    },
    {
      "cell_type": "code",
      "source": [
        "accuracy2 = sum(y_test == y_pred2) / len(y_test)\n",
        "print(\"Accuracy: {:.2f}%\".format(accuracy2 * 100))"
      ],
      "metadata": {
        "colab": {
          "base_uri": "https://localhost:8080/"
        },
        "id": "KzVHwkKLYT3O",
        "outputId": "29a53d52-809c-47fe-e5c6-f87fe6b9f0bc"
      },
      "execution_count": null,
      "outputs": [
        {
          "output_type": "stream",
          "name": "stdout",
          "text": [
            "Accuracy: 13.73%\n"
          ]
        }
      ]
    },
    {
      "cell_type": "code",
      "source": [
        "y_pred3 = clf.predict(X_test)"
      ],
      "metadata": {
        "id": "YjGDkPvmXwPt"
      },
      "execution_count": null,
      "outputs": []
    },
    {
      "cell_type": "code",
      "source": [
        "print(y_pred3)"
      ],
      "metadata": {
        "colab": {
          "base_uri": "https://localhost:8080/"
        },
        "id": "Mo7TIKWgTU2y",
        "outputId": "8fb38d93-36af-4e04-db19-a7a223336033"
      },
      "execution_count": null,
      "outputs": [
        {
          "output_type": "stream",
          "name": "stdout",
          "text": [
            "[   4  116   17 ... 1235  142    4]\n"
          ]
        }
      ]
    },
    {
      "cell_type": "code",
      "source": [
        "accuracy3 = sum(y_test == y_pred3) / len(y_test)\n",
        "print(\"Accuracy: {:.2f}%\".format(accuracy3 * 100))"
      ],
      "metadata": {
        "colab": {
          "base_uri": "https://localhost:8080/"
        },
        "id": "WVhWRIUUyrlK",
        "outputId": "809bf052-e269-469b-8789-b2d7e8e26154"
      },
      "execution_count": null,
      "outputs": [
        {
          "output_type": "stream",
          "name": "stdout",
          "text": [
            "Accuracy: 20.16%\n"
          ]
        }
      ]
    }
  ]
}