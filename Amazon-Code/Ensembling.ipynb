{
  "nbformat": 4,
  "nbformat_minor": 0,
  "metadata": {
    "colab": {
      "provenance": []
    },
    "kernelspec": {
      "name": "python3",
      "display_name": "Python 3"
    },
    "language_info": {
      "name": "python"
    }
  },
  "cells": [
    {
      "cell_type": "code",
      "execution_count": 2,
      "metadata": {
        "colab": {
          "base_uri": "https://localhost:8080/",
          "height": 359
        },
        "id": "867_ej8rARGB",
        "outputId": "8864062f-3265-43e0-d626-8bf07a753670"
      },
      "outputs": [
        {
          "output_type": "stream",
          "name": "stdout",
          "text": [
            "Looking in indexes: https://pypi.org/simple, https://us-python.pkg.dev/colab-wheels/public/simple/\n",
            "Requirement already satisfied: gdown in /usr/local/lib/python3.10/dist-packages (4.6.6)\n",
            "Requirement already satisfied: filelock in /usr/local/lib/python3.10/dist-packages (from gdown) (3.12.0)\n",
            "Requirement already satisfied: requests[socks] in /usr/local/lib/python3.10/dist-packages (from gdown) (2.27.1)\n",
            "Requirement already satisfied: six in /usr/local/lib/python3.10/dist-packages (from gdown) (1.16.0)\n",
            "Requirement already satisfied: tqdm in /usr/local/lib/python3.10/dist-packages (from gdown) (4.65.0)\n",
            "Requirement already satisfied: beautifulsoup4 in /usr/local/lib/python3.10/dist-packages (from gdown) (4.11.2)\n",
            "Requirement already satisfied: soupsieve>1.2 in /usr/local/lib/python3.10/dist-packages (from beautifulsoup4->gdown) (2.4.1)\n",
            "Requirement already satisfied: urllib3<1.27,>=1.21.1 in /usr/local/lib/python3.10/dist-packages (from requests[socks]->gdown) (1.26.15)\n",
            "Requirement already satisfied: certifi>=2017.4.17 in /usr/local/lib/python3.10/dist-packages (from requests[socks]->gdown) (2022.12.7)\n",
            "Requirement already satisfied: charset-normalizer~=2.0.0 in /usr/local/lib/python3.10/dist-packages (from requests[socks]->gdown) (2.0.12)\n",
            "Requirement already satisfied: idna<4,>=2.5 in /usr/local/lib/python3.10/dist-packages (from requests[socks]->gdown) (3.4)\n",
            "Requirement already satisfied: PySocks!=1.5.7,>=1.5.6 in /usr/local/lib/python3.10/dist-packages (from requests[socks]->gdown) (1.7.1)\n"
          ]
        },
        {
          "output_type": "stream",
          "name": "stderr",
          "text": [
            "Downloading...\n",
            "From: https://drive.google.com/uc?id=1F_FNJKOE1oOZPqdLIW0Wt7LoC2InDnjV\n",
            "To: /content/data.csv\n",
            "100%|██████████| 253M/253M [00:03<00:00, 64.4MB/s]\n"
          ]
        },
        {
          "output_type": "execute_result",
          "data": {
            "text/plain": [
              "'/content/data.csv'"
            ],
            "application/vnd.google.colaboratory.intrinsic+json": {
              "type": "string"
            }
          },
          "metadata": {},
          "execution_count": 2
        }
      ],
      "source": [
        "!pip install gdown\n",
        "\n",
        "import gdown\n",
        "\n",
        "# Define the URL of the file to download\n",
        "url = 'https://drive.google.com/uc?id=1F_FNJKOE1oOZPqdLIW0Wt7LoC2InDnjV'\n",
        "\n",
        "# Define the output file path\n",
        "output = '/content/data.csv'\n",
        "\n",
        "# Download the file using gdown\n",
        "gdown.download(url, output, quiet=False)"
      ]
    },
    {
      "cell_type": "code",
      "source": [
        "import numpy as np\n",
        "import pandas as pd\n",
        "import matplotlib.pyplot as plt\n",
        "import seaborn as sns"
      ],
      "metadata": {
        "id": "Utr1PGGCAazs"
      },
      "execution_count": 3,
      "outputs": []
    },
    {
      "cell_type": "code",
      "source": [
        "train_data = pd.read_csv('/content/data.csv')"
      ],
      "metadata": {
        "id": "XahQ0ce2AqM2"
      },
      "execution_count": 4,
      "outputs": []
    },
    {
      "cell_type": "code",
      "source": [
        "train_data.head()"
      ],
      "metadata": {
        "colab": {
          "base_uri": "https://localhost:8080/",
          "height": 424
        },
        "id": "vSGCLPITAxgS",
        "outputId": "dda90b27-8443-4218-f0ac-1181516f3abd"
      },
      "execution_count": 5,
      "outputs": [
        {
          "output_type": "execute_result",
          "data": {
            "text/plain": [
              "   PRODUCT_ID                                              TITLE  \\\n",
              "0     1505480  Select settings [100 COUNT] Microwaveable, com...   \n",
              "1     2447219  The Customer Service In Africa: How To Improve...   \n",
              "2      369455                      Brentwood (Images of America)   \n",
              "3      404896  Claire's Sketch Pad: 50 Blank Pages to draw an...   \n",
              "4      463483  2011/12 Boston Restaurants (Zagat Survey Bosto...   \n",
              "\n",
              "                                       BULLET_POINTS  \\\n",
              "0  [INCLUDES: 100 light brown compostable bowls.,...   \n",
              "1                                                      \n",
              "2                                                      \n",
              "3                                                      \n",
              "4                                                      \n",
              "\n",
              "                                         DESCRIPTION  PRODUCT_TYPE_ID  \\\n",
              "0  Your dinnerware matters. It helps to define an...              474   \n",
              "1                                                                6142   \n",
              "2                                                                 223   \n",
              "3                                                                  10   \n",
              "4                                                               12316   \n",
              "\n",
              "   PRODUCT_LENGTH  kfold                                               text  \n",
              "0            2108      0  select setting 100 count microwaveable compost...  \n",
              "1              12      0  customer service africa improve customer exper...  \n",
              "2             229      0                            brentwood image america  \n",
              "3              81      0  claires sketch pad 50 blank page draw anything...  \n",
              "4              68      0  201112 boston restaurant zagat survey boston r...  "
            ],
            "text/html": [
              "\n",
              "  <div id=\"df-3781dd0e-dc6a-476e-8c40-6b94ed46bd37\">\n",
              "    <div class=\"colab-df-container\">\n",
              "      <div>\n",
              "<style scoped>\n",
              "    .dataframe tbody tr th:only-of-type {\n",
              "        vertical-align: middle;\n",
              "    }\n",
              "\n",
              "    .dataframe tbody tr th {\n",
              "        vertical-align: top;\n",
              "    }\n",
              "\n",
              "    .dataframe thead th {\n",
              "        text-align: right;\n",
              "    }\n",
              "</style>\n",
              "<table border=\"1\" class=\"dataframe\">\n",
              "  <thead>\n",
              "    <tr style=\"text-align: right;\">\n",
              "      <th></th>\n",
              "      <th>PRODUCT_ID</th>\n",
              "      <th>TITLE</th>\n",
              "      <th>BULLET_POINTS</th>\n",
              "      <th>DESCRIPTION</th>\n",
              "      <th>PRODUCT_TYPE_ID</th>\n",
              "      <th>PRODUCT_LENGTH</th>\n",
              "      <th>kfold</th>\n",
              "      <th>text</th>\n",
              "    </tr>\n",
              "  </thead>\n",
              "  <tbody>\n",
              "    <tr>\n",
              "      <th>0</th>\n",
              "      <td>1505480</td>\n",
              "      <td>Select settings [100 COUNT] Microwaveable, com...</td>\n",
              "      <td>[INCLUDES: 100 light brown compostable bowls.,...</td>\n",
              "      <td>Your dinnerware matters. It helps to define an...</td>\n",
              "      <td>474</td>\n",
              "      <td>2108</td>\n",
              "      <td>0</td>\n",
              "      <td>select setting 100 count microwaveable compost...</td>\n",
              "    </tr>\n",
              "    <tr>\n",
              "      <th>1</th>\n",
              "      <td>2447219</td>\n",
              "      <td>The Customer Service In Africa: How To Improve...</td>\n",
              "      <td></td>\n",
              "      <td></td>\n",
              "      <td>6142</td>\n",
              "      <td>12</td>\n",
              "      <td>0</td>\n",
              "      <td>customer service africa improve customer exper...</td>\n",
              "    </tr>\n",
              "    <tr>\n",
              "      <th>2</th>\n",
              "      <td>369455</td>\n",
              "      <td>Brentwood (Images of America)</td>\n",
              "      <td></td>\n",
              "      <td></td>\n",
              "      <td>223</td>\n",
              "      <td>229</td>\n",
              "      <td>0</td>\n",
              "      <td>brentwood image america</td>\n",
              "    </tr>\n",
              "    <tr>\n",
              "      <th>3</th>\n",
              "      <td>404896</td>\n",
              "      <td>Claire's Sketch Pad: 50 Blank Pages to draw an...</td>\n",
              "      <td></td>\n",
              "      <td></td>\n",
              "      <td>10</td>\n",
              "      <td>81</td>\n",
              "      <td>0</td>\n",
              "      <td>claires sketch pad 50 blank page draw anything...</td>\n",
              "    </tr>\n",
              "    <tr>\n",
              "      <th>4</th>\n",
              "      <td>463483</td>\n",
              "      <td>2011/12 Boston Restaurants (Zagat Survey Bosto...</td>\n",
              "      <td></td>\n",
              "      <td></td>\n",
              "      <td>12316</td>\n",
              "      <td>68</td>\n",
              "      <td>0</td>\n",
              "      <td>201112 boston restaurant zagat survey boston r...</td>\n",
              "    </tr>\n",
              "  </tbody>\n",
              "</table>\n",
              "</div>\n",
              "      <button class=\"colab-df-convert\" onclick=\"convertToInteractive('df-3781dd0e-dc6a-476e-8c40-6b94ed46bd37')\"\n",
              "              title=\"Convert this dataframe to an interactive table.\"\n",
              "              style=\"display:none;\">\n",
              "        \n",
              "  <svg xmlns=\"http://www.w3.org/2000/svg\" height=\"24px\"viewBox=\"0 0 24 24\"\n",
              "       width=\"24px\">\n",
              "    <path d=\"M0 0h24v24H0V0z\" fill=\"none\"/>\n",
              "    <path d=\"M18.56 5.44l.94 2.06.94-2.06 2.06-.94-2.06-.94-.94-2.06-.94 2.06-2.06.94zm-11 1L8.5 8.5l.94-2.06 2.06-.94-2.06-.94L8.5 2.5l-.94 2.06-2.06.94zm10 10l.94 2.06.94-2.06 2.06-.94-2.06-.94-.94-2.06-.94 2.06-2.06.94z\"/><path d=\"M17.41 7.96l-1.37-1.37c-.4-.4-.92-.59-1.43-.59-.52 0-1.04.2-1.43.59L10.3 9.45l-7.72 7.72c-.78.78-.78 2.05 0 2.83L4 21.41c.39.39.9.59 1.41.59.51 0 1.02-.2 1.41-.59l7.78-7.78 2.81-2.81c.8-.78.8-2.07 0-2.86zM5.41 20L4 18.59l7.72-7.72 1.47 1.35L5.41 20z\"/>\n",
              "  </svg>\n",
              "      </button>\n",
              "      \n",
              "  <style>\n",
              "    .colab-df-container {\n",
              "      display:flex;\n",
              "      flex-wrap:wrap;\n",
              "      gap: 12px;\n",
              "    }\n",
              "\n",
              "    .colab-df-convert {\n",
              "      background-color: #E8F0FE;\n",
              "      border: none;\n",
              "      border-radius: 50%;\n",
              "      cursor: pointer;\n",
              "      display: none;\n",
              "      fill: #1967D2;\n",
              "      height: 32px;\n",
              "      padding: 0 0 0 0;\n",
              "      width: 32px;\n",
              "    }\n",
              "\n",
              "    .colab-df-convert:hover {\n",
              "      background-color: #E2EBFA;\n",
              "      box-shadow: 0px 1px 2px rgba(60, 64, 67, 0.3), 0px 1px 3px 1px rgba(60, 64, 67, 0.15);\n",
              "      fill: #174EA6;\n",
              "    }\n",
              "\n",
              "    [theme=dark] .colab-df-convert {\n",
              "      background-color: #3B4455;\n",
              "      fill: #D2E3FC;\n",
              "    }\n",
              "\n",
              "    [theme=dark] .colab-df-convert:hover {\n",
              "      background-color: #434B5C;\n",
              "      box-shadow: 0px 1px 3px 1px rgba(0, 0, 0, 0.15);\n",
              "      filter: drop-shadow(0px 1px 2px rgba(0, 0, 0, 0.3));\n",
              "      fill: #FFFFFF;\n",
              "    }\n",
              "  </style>\n",
              "\n",
              "      <script>\n",
              "        const buttonEl =\n",
              "          document.querySelector('#df-3781dd0e-dc6a-476e-8c40-6b94ed46bd37 button.colab-df-convert');\n",
              "        buttonEl.style.display =\n",
              "          google.colab.kernel.accessAllowed ? 'block' : 'none';\n",
              "\n",
              "        async function convertToInteractive(key) {\n",
              "          const element = document.querySelector('#df-3781dd0e-dc6a-476e-8c40-6b94ed46bd37');\n",
              "          const dataTable =\n",
              "            await google.colab.kernel.invokeFunction('convertToInteractive',\n",
              "                                                     [key], {});\n",
              "          if (!dataTable) return;\n",
              "\n",
              "          const docLinkHtml = 'Like what you see? Visit the ' +\n",
              "            '<a target=\"_blank\" href=https://colab.research.google.com/notebooks/data_table.ipynb>data table notebook</a>'\n",
              "            + ' to learn more about interactive tables.';\n",
              "          element.innerHTML = '';\n",
              "          dataTable['output_type'] = 'display_data';\n",
              "          await google.colab.output.renderOutput(dataTable, element);\n",
              "          const docLink = document.createElement('div');\n",
              "          docLink.innerHTML = docLinkHtml;\n",
              "          element.appendChild(docLink);\n",
              "        }\n",
              "      </script>\n",
              "    </div>\n",
              "  </div>\n",
              "  "
            ]
          },
          "metadata": {},
          "execution_count": 5
        }
      ]
    },
    {
      "cell_type": "code",
      "source": [
        "train_data.shape"
      ],
      "metadata": {
        "colab": {
          "base_uri": "https://localhost:8080/"
        },
        "id": "4iB6TBRjA11m",
        "outputId": "75618e1a-4b80-4634-de0b-5f661b8d94b3"
      },
      "execution_count": 6,
      "outputs": [
        {
          "output_type": "execute_result",
          "data": {
            "text/plain": [
              "(200000, 8)"
            ]
          },
          "metadata": {},
          "execution_count": 6
        }
      ]
    },
    {
      "cell_type": "markdown",
      "source": [
        "**Outlier Removal**"
      ],
      "metadata": {
        "id": "1GCyyDh-F7ex"
      }
    },
    {
      "cell_type": "code",
      "source": [
        "from sklearn.impute import SimpleImputer\n",
        "numeric_imputer = SimpleImputer(strategy='median')\n",
        "train_data['PRODUCT_LENGTH'] = numeric_imputer.fit_transform(train_data['PRODUCT_LENGTH'].values.reshape(-1, 1))"
      ],
      "metadata": {
        "id": "tvl01m1Aw6fd"
      },
      "execution_count": 7,
      "outputs": []
    },
    {
      "cell_type": "markdown",
      "source": [
        "**Embedding**"
      ],
      "metadata": {
        "id": "3T8zyNiWFC2G"
      }
    },
    {
      "cell_type": "code",
      "source": [
        "import tensorflow as tf\n",
        "from sklearn.model_selection import train_test_split\n",
        "from sklearn.preprocessing import StandardScaler\n",
        "from gensim.models import Word2Vec\n",
        "from sklearn.metrics import classification_report"
      ],
      "metadata": {
        "id": "4sy91A6zDu_c"
      },
      "execution_count": null,
      "outputs": []
    },
    {
      "cell_type": "code",
      "source": [
        "text_data = train_data['text'].astype(str).str.lower().str.split()  # Convert text to lowercase and tokenize\n",
        "\n",
        "embedding_size = 100 \n",
        "window_size = 5 \n",
        "model = Word2Vec(text_data, vector_size=embedding_size, window=window_size, min_count=1)\n",
        "\n",
        "def get_word_embeddings(word):\n",
        "    if word in model.wv:\n",
        "        return model.wv[word]\n",
        "    else:\n",
        "        return np.zeros(embedding_size) \n",
        "text_features = text_data.apply(lambda x: [get_word_embeddings(word) for word in x])"
      ],
      "metadata": {
        "id": "-3dfjQU4DquS"
      },
      "execution_count": null,
      "outputs": []
    },
    {
      "cell_type": "code",
      "source": [
        "text_features_avg = text_features.apply(lambda x: np.mean(x, axis=0))\n",
        "text_features_avg = np.stack(text_features_avg)"
      ],
      "metadata": {
        "id": "6QmGxmvpEbYC"
      },
      "execution_count": null,
      "outputs": []
    },
    {
      "cell_type": "code",
      "source": [
        "print(type(text_features_avg))"
      ],
      "metadata": {
        "colab": {
          "base_uri": "https://localhost:8080/"
        },
        "id": "bFKB6cBxEepr",
        "outputId": "097bbff2-7e51-46f3-900f-1fdd7db3a6e3"
      },
      "execution_count": null,
      "outputs": [
        {
          "output_type": "stream",
          "name": "stdout",
          "text": [
            "<class 'numpy.ndarray'>\n"
          ]
        }
      ]
    },
    {
      "cell_type": "code",
      "source": [
        "column_names = ['PRODUCT_ID', 'PRODUCT_TYPE_ID']  \n",
        "X = train_data[column_names]\n",
        "Y = train_data['PRODUCT_LENGTH']"
      ],
      "metadata": {
        "id": "Z0qpzQ7aA6d8"
      },
      "execution_count": null,
      "outputs": []
    },
    {
      "cell_type": "code",
      "source": [
        "X_ = X.values\n",
        "print(X_.shape)\n",
        "X_combined = np.hstack(( X_ ,text_features_avg))\n",
        "print(X_combined.shape)\n",
        "Y_ = Y.values"
      ],
      "metadata": {
        "colab": {
          "base_uri": "https://localhost:8080/"
        },
        "id": "FwE1ZqoBDBhE",
        "outputId": "bac23934-af2b-4381-963f-5cf1d18ddfa7"
      },
      "execution_count": null,
      "outputs": [
        {
          "output_type": "stream",
          "name": "stdout",
          "text": [
            "(200000, 2)\n",
            "(200000, 102)\n"
          ]
        }
      ]
    },
    {
      "cell_type": "markdown",
      "source": [
        "**Ensembling 4 knn model using Bagging Classifier**"
      ],
      "metadata": {
        "id": "Wr-hoXO4FLOR"
      }
    },
    {
      "cell_type": "code",
      "source": [
        "from sklearn.neighbors import KNeighborsClassifier\n",
        "from sklearn.ensemble import BaggingClassifier\n",
        "from sklearn.model_selection import train_test_split\n",
        "from sklearn.metrics import accuracy_score\n",
        "\n",
        "X_train, X_test, y_train, y_test = train_test_split(text_features_avg,Y_, test_size=0.2, random_state=42)\n",
        "\n",
        "knn = KNeighborsClassifier(n_neighbors=25) \n",
        "bagging = BaggingClassifier(base_estimator=knn, n_estimators=2, random_state=42)\n",
        "bagging.fit(X_train, y_train)\n",
        "y_pred = bagging.predict(X_test)\n",
        "accuracy = accuracy_score(y_test, y_pred)\n",
        "print(\"Ensemble Accuracy:\", accuracy)\n"
      ],
      "metadata": {
        "colab": {
          "base_uri": "https://localhost:8080/"
        },
        "id": "gSdXqW1TfUAD",
        "outputId": "0ada703e-ac0d-4cdd-94a8-dfd9bf8d4226"
      },
      "execution_count": null,
      "outputs": [
        {
          "output_type": "stream",
          "name": "stderr",
          "text": [
            "/usr/local/lib/python3.10/dist-packages/sklearn/ensemble/_base.py:166: FutureWarning: `base_estimator` was renamed to `estimator` in version 1.2 and will be removed in 1.4.\n",
            "  warnings.warn(\n"
          ]
        },
        {
          "output_type": "stream",
          "name": "stdout",
          "text": [
            "Ensemble Accuracy: 0.183875\n"
          ]
        }
      ]
    }
  ]
}